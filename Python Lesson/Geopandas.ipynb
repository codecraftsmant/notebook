{
 "cells": [
  {
   "cell_type": "markdown",
   "metadata": {},
   "source": [
    "# **Manipulasi Data Geospasial python Geopandas**\n",
    "\n",
    "> The goal of GeoPandas is to make working with geospatial data in python easier. It combines the capabilities of pandas and shapely, providing geospatial operations in pandas and a high-level interface to multiple geometries to shapely. GeoPandas enables you to easily do operations in python that would otherwise require a spatial database such as PostGIS."
   ]
  },
  {
   "cell_type": "code",
   "execution_count": 2,
   "metadata": {},
   "outputs": [
    {
     "ename": "ModuleNotFoundError",
     "evalue": "No module named 'matplotlib'",
     "output_type": "error",
     "traceback": [
      "\u001b[0;31m---------------------------------------------------------------------------\u001b[0m",
      "\u001b[0;31mModuleNotFoundError\u001b[0m                       Traceback (most recent call last)",
      "\u001b[0;32m<ipython-input-2-8219830b5cbd>\u001b[0m in \u001b[0;36m<module>\u001b[0;34m\u001b[0m\n\u001b[1;32m      1\u001b[0m \u001b[0;32mimport\u001b[0m \u001b[0mgeopandas\u001b[0m \u001b[0;32mas\u001b[0m \u001b[0mgp\u001b[0m\u001b[0;34m\u001b[0m\u001b[0;34m\u001b[0m\u001b[0m\n\u001b[0;32m----> 2\u001b[0;31m \u001b[0;32mimport\u001b[0m \u001b[0mmatplotlib\u001b[0m\u001b[0;34m.\u001b[0m\u001b[0mpyplot\u001b[0m \u001b[0;32mas\u001b[0m \u001b[0mplt\u001b[0m\u001b[0;34m\u001b[0m\u001b[0;34m\u001b[0m\u001b[0m\n\u001b[0m",
      "\u001b[0;31mModuleNotFoundError\u001b[0m: No module named 'matplotlib'"
     ]
    }
   ],
   "source": [
    "import geopandas as gp\n",
    "import matplotlib.pyplot as plt"
   ]
  },
  {
   "cell_type": "markdown",
   "metadata": {},
   "source": [
    "## **Membaca Sumber data SHP**"
   ]
  },
  {
   "cell_type": "code",
   "execution_count": 2,
   "metadata": {},
   "outputs": [
    {
     "data": {
      "text/html": [
       "<div>\n",
       "<style scoped>\n",
       "    .dataframe tbody tr th:only-of-type {\n",
       "        vertical-align: middle;\n",
       "    }\n",
       "\n",
       "    .dataframe tbody tr th {\n",
       "        vertical-align: top;\n",
       "    }\n",
       "\n",
       "    .dataframe thead th {\n",
       "        text-align: right;\n",
       "    }\n",
       "</style>\n",
       "<table border=\"1\" class=\"dataframe\">\n",
       "  <thead>\n",
       "    <tr style=\"text-align: right;\">\n",
       "      <th></th>\n",
       "      <th>WADMPR</th>\n",
       "      <th>WADMKK</th>\n",
       "      <th>WADMKC</th>\n",
       "      <th>NAMOBJ</th>\n",
       "      <th>geometry</th>\n",
       "    </tr>\n",
       "  </thead>\n",
       "  <tbody>\n",
       "    <tr>\n",
       "      <th>0</th>\n",
       "      <td>Jawa Barat</td>\n",
       "      <td>Bogor</td>\n",
       "      <td>Kemang</td>\n",
       "      <td>Atangsenjaya</td>\n",
       "      <td>MULTIPOLYGON Z (((106.76135 -6.54978 0.00000, ...</td>\n",
       "    </tr>\n",
       "    <tr>\n",
       "      <th>1</th>\n",
       "      <td>Jawa Barat</td>\n",
       "      <td>Kota Bogor</td>\n",
       "      <td>Bogor Tengah</td>\n",
       "      <td>Babakan</td>\n",
       "      <td>POLYGON Z ((106.81147 -6.58549 0.00000, 106.81...</td>\n",
       "    </tr>\n",
       "    <tr>\n",
       "      <th>2</th>\n",
       "      <td>Jawa Barat</td>\n",
       "      <td>Bogor</td>\n",
       "      <td>Dramaga</td>\n",
       "      <td>Babakan</td>\n",
       "      <td>MULTIPOLYGON Z (((106.73532 -6.56320 0.00000, ...</td>\n",
       "    </tr>\n",
       "    <tr>\n",
       "      <th>3</th>\n",
       "      <td>Jawa Barat</td>\n",
       "      <td>Kota Bogor</td>\n",
       "      <td>Bogor Tengah</td>\n",
       "      <td>Babakanpasar</td>\n",
       "      <td>POLYGON Z ((106.80666 -6.60793 0.00000, 106.80...</td>\n",
       "    </tr>\n",
       "    <tr>\n",
       "      <th>4</th>\n",
       "      <td>Jawa Barat</td>\n",
       "      <td>Kota Bogor</td>\n",
       "      <td>Bogor Barat</td>\n",
       "      <td>Balumbangjaya</td>\n",
       "      <td>POLYGON Z ((106.74774 -6.56118 0.00000, 106.74...</td>\n",
       "    </tr>\n",
       "    <tr>\n",
       "      <th>...</th>\n",
       "      <td>...</td>\n",
       "      <td>...</td>\n",
       "      <td>...</td>\n",
       "      <td>...</td>\n",
       "      <td>...</td>\n",
       "    </tr>\n",
       "    <tr>\n",
       "      <th>97</th>\n",
       "      <td>Jawa Barat</td>\n",
       "      <td>Kota Bogor</td>\n",
       "      <td>Tanahsareal</td>\n",
       "      <td>Tanahsareal</td>\n",
       "      <td>POLYGON Z ((106.80750 -6.56811 0.00000, 106.80...</td>\n",
       "    </tr>\n",
       "    <tr>\n",
       "      <th>98</th>\n",
       "      <td>Jawa Barat</td>\n",
       "      <td>Kota Bogor</td>\n",
       "      <td>Bogor Tengah</td>\n",
       "      <td>Tegalega</td>\n",
       "      <td>POLYGON Z ((106.81530 -6.59881 0.00000, 106.81...</td>\n",
       "    </tr>\n",
       "    <tr>\n",
       "      <th>99</th>\n",
       "      <td>Jawa Barat</td>\n",
       "      <td>Kota Bogor</td>\n",
       "      <td>Bogor Utara</td>\n",
       "      <td>Tegalgundil</td>\n",
       "      <td>POLYGON Z ((106.81849 -6.57185 0.00000, 106.81...</td>\n",
       "    </tr>\n",
       "    <tr>\n",
       "      <th>100</th>\n",
       "      <td>Jawa Barat</td>\n",
       "      <td>Bogor</td>\n",
       "      <td>Ciawi</td>\n",
       "      <td>Telukpinang</td>\n",
       "      <td>MULTIPOLYGON Z (((106.84797 -6.67574 0.00000, ...</td>\n",
       "    </tr>\n",
       "    <tr>\n",
       "      <th>101</th>\n",
       "      <td>Jawa Barat</td>\n",
       "      <td>Bogor</td>\n",
       "      <td>Bojonggede</td>\n",
       "      <td>Waringinjaya</td>\n",
       "      <td>POLYGON Z ((106.78729 -6.51460 0.00000, 106.78...</td>\n",
       "    </tr>\n",
       "  </tbody>\n",
       "</table>\n",
       "<p>102 rows × 5 columns</p>\n",
       "</div>"
      ],
      "text/plain": [
       "         WADMPR      WADMKK        WADMKC         NAMOBJ  \\\n",
       "0    Jawa Barat       Bogor        Kemang   Atangsenjaya   \n",
       "1    Jawa Barat  Kota Bogor  Bogor Tengah        Babakan   \n",
       "2    Jawa Barat       Bogor       Dramaga        Babakan   \n",
       "3    Jawa Barat  Kota Bogor  Bogor Tengah   Babakanpasar   \n",
       "4    Jawa Barat  Kota Bogor   Bogor Barat  Balumbangjaya   \n",
       "..          ...         ...           ...            ...   \n",
       "97   Jawa Barat  Kota Bogor   Tanahsareal    Tanahsareal   \n",
       "98   Jawa Barat  Kota Bogor  Bogor Tengah       Tegalega   \n",
       "99   Jawa Barat  Kota Bogor   Bogor Utara    Tegalgundil   \n",
       "100  Jawa Barat       Bogor         Ciawi    Telukpinang   \n",
       "101  Jawa Barat       Bogor    Bojonggede   Waringinjaya   \n",
       "\n",
       "                                              geometry  \n",
       "0    MULTIPOLYGON Z (((106.76135 -6.54978 0.00000, ...  \n",
       "1    POLYGON Z ((106.81147 -6.58549 0.00000, 106.81...  \n",
       "2    MULTIPOLYGON Z (((106.73532 -6.56320 0.00000, ...  \n",
       "3    POLYGON Z ((106.80666 -6.60793 0.00000, 106.80...  \n",
       "4    POLYGON Z ((106.74774 -6.56118 0.00000, 106.74...  \n",
       "..                                                 ...  \n",
       "97   POLYGON Z ((106.80750 -6.56811 0.00000, 106.80...  \n",
       "98   POLYGON Z ((106.81530 -6.59881 0.00000, 106.81...  \n",
       "99   POLYGON Z ((106.81849 -6.57185 0.00000, 106.81...  \n",
       "100  MULTIPOLYGON Z (((106.84797 -6.67574 0.00000, ...  \n",
       "101  POLYGON Z ((106.78729 -6.51460 0.00000, 106.78...  \n",
       "\n",
       "[102 rows x 5 columns]"
      ]
     },
     "execution_count": 2,
     "metadata": {},
     "output_type": "execute_result"
    }
   ],
   "source": [
    "gf = gp.read_file(\"shp/Kota Bogor/ADMINISTRASIDESA_AR_25K.shp\")\n",
    "gf = gf[[\"WADMPR\", \"WADMKK\", \"WADMKC\", \"NAMOBJ\", \"geometry\"]]\n",
    "gf"
   ]
  },
  {
   "cell_type": "code",
   "execution_count": null,
   "metadata": {},
   "outputs": [],
   "source": []
  },
  {
   "cell_type": "code",
   "execution_count": null,
   "metadata": {},
   "outputs": [],
   "source": []
  },
  {
   "cell_type": "code",
   "execution_count": null,
   "metadata": {},
   "outputs": [],
   "source": []
  },
  {
   "cell_type": "code",
   "execution_count": null,
   "metadata": {},
   "outputs": [],
   "source": []
  }
 ],
 "metadata": {
  "kernelspec": {
   "display_name": "Python 3",
   "language": "python",
   "name": "python3"
  },
  "language_info": {
   "codemirror_mode": {
    "name": "ipython",
    "version": 3
   },
   "file_extension": ".py",
   "mimetype": "text/x-python",
   "name": "python",
   "nbconvert_exporter": "python",
   "pygments_lexer": "ipython3",
   "version": "3.9.0"
  }
 },
 "nbformat": 4,
 "nbformat_minor": 4
}
